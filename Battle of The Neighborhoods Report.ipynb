{
 "cells": [
  {
   "cell_type": "markdown",
   "metadata": {},
   "source": [
    "#  Location suggestions for opening an Egyptian restaurant in Toronto"
   ]
  },
  {
   "cell_type": "markdown",
   "metadata": {},
   "source": [
    "## 1. Introduction"
   ]
  },
  {
   "cell_type": "markdown",
   "metadata": {},
   "source": [
    "### 1.1 Background"
   ]
  },
  {
   "cell_type": "markdown",
   "metadata": {},
   "source": [
    "Toronto is the capital city of the province of Ontario, one of the largest cities in Canada by population with 2,731,571 residents as of 2016. The majority of the Ontario residents live the the Greater Toronto Area (GTA) which makes it Canada's most populous city. With the wide diversity in Canada and in the City of Toronto, there are many restaurants that offer almost every cuisine that exists on the planet. However, there isn't any authentic Egyptian restaurant in the city that specializes in Egyptian food only."
   ]
  },
  {
   "cell_type": "markdown",
   "metadata": {},
   "source": [
    "### 1.2 Business Problem"
   ]
  },
  {
   "cell_type": "markdown",
   "metadata": {},
   "source": [
    "The business problem is that we are looking for a location in the city of Toronto to open an Egyptian restaurant. The study must include the all the restaurants/diners and fast food places and how they are distributed in the city and the places where they are concenctrated. The opening of the new restaurants requires this study to decide the preferred location to guarantee the best success for the restaurant."
   ]
  },
  {
   "cell_type": "markdown",
   "metadata": {},
   "source": [
    "#### 1.3 Who would be interested"
   ]
  },
  {
   "cell_type": "markdown",
   "metadata": {},
   "source": [
    "This project would be interesting for those who wish to open a new restaurant in general in the Greater Toronto Area or if someone would like to open an Egyptian or Middle Eastern restaurant. This project will provide data analytics for the restaurants and diners places found on Foursquare in the Toronto Area."
   ]
  },
  {
   "cell_type": "markdown",
   "metadata": {},
   "source": [
    "## 2. Data"
   ]
  },
  {
   "cell_type": "markdown",
   "metadata": {},
   "source": [
    "### 2.1 Data Description"
   ]
  },
  {
   "cell_type": "markdown",
   "metadata": {},
   "source": [
    "The data needed for this project is required for analyzing the restaurants in Toronto. The data obtained is related to the Toronto Area, its central area, downtown, east and west areas, the postal codes of the neighborhoods and their latitude and longitude. With the help of this data, we get restaurants' data from Foursquare API along with each latitude and longitude. "
   ]
  },
  {
   "cell_type": "markdown",
   "metadata": {},
   "source": [
    "### 2.2 Data Sources"
   ]
  },
  {
   "cell_type": "markdown",
   "metadata": {},
   "source": [
    "For the Toronto neighborhood data, this Wikipedia page: https://en.wikipedia.org/wiki/List_of_postal_codes_of_Canada:_M has all the information I need to explore and cluster the neighborhoods in Toronto. I will scrape the Wikipedia page and wrangle the data, clean it, and then read it into a pandas dataframe so that it is in a structured format with the geographical coordinates of each postal code from: http://cocl.us/Geospatial_data\n",
    "Alos, the Foursquare APIs will be used tp fetch the data from all the venues in Toronto and then I will filter the data to get only the restaurants/diners or food related venues to work on."
   ]
  },
  {
   "cell_type": "markdown",
   "metadata": {},
   "source": [
    "## 3. Methodology"
   ]
  },
  {
   "cell_type": "markdown",
   "metadata": {},
   "source": [
    "After getting the data, the parsing process started and data from wikipedia and the geospatial data where concatenate according to the right postal code. After the data was set, it was filtered to to only work in with the data in Toronto. I started by finding all the venues in Greater Toronto using Foursquare API."
   ]
  },
  {
   "cell_type": "markdown",
   "metadata": {},
   "source": [
    "The number of unique venues in Toronto on Foursquare is 1098. \n",
    "The number of unique venue categories in Toronto on Foursquare is 60"
   ]
  },
  {
   "cell_type": "markdown",
   "metadata": {},
   "source": [
    "To find the venues that would be our competition I had to look for any place that is related to selling food, whether it is a restaurant, diner, a pizza place, burgers, BBQ joints or even burrito, because simply any place that sells food even if it's not Egyptian or Middle Eastern was considered a competition.\n",
    "After the filtering process, the data showed that there are 363 unique restaurant in the area, which means 33% of the venues are related to selling food."
   ]
  },
  {
   "cell_type": "markdown",
   "metadata": {},
   "source": [
    "After adding all the venues on the map as markers to see the dense areas, the result was as expected, the downtown area held the biggest number of restaurants. While analyzing the data from Foursquare, I found that the restaurants that people visited frequently were mostly American restaurants and the Middle Eastern restaurant was in the top 5 frequent places that people go to in the M4M, M5B, M6H postal code areas. "
   ]
  },
  {
   "cell_type": "markdown",
   "metadata": {},
   "source": [
    "The restaurants data will be modeled using the K-Means clustering methodology. I tried it with 2,3 ,4 and 5 clusters. However, it was best to work with 3 clusters as Toronto area is already divided into 3 areas, East, West and Downtown/Central. Each cluster should be analyzed in order to decide where the preferred cluster would be to open an Egyptian restaurant."
   ]
  },
  {
   "cell_type": "markdown",
   "metadata": {},
   "source": [
    "## 4. Results"
   ]
  },
  {
   "cell_type": "markdown",
   "metadata": {},
   "source": [
    "The data clusters show that the area in the centre and the area in the east has existing Middle Eastern restaurants with the central part very dense with restaurants so the competition would be extremely high. The West area is almost empty without any restaurants or food courts, it's almost like a residential area. However, the north part has a couple of restaurants and certainly it does not have any Egyptian or Middle Eastern restaurants, so this seems like a good area to open a restaurant."
   ]
  },
  {
   "cell_type": "markdown",
   "metadata": {},
   "source": [
    "## 5. Discussion"
   ]
  },
  {
   "cell_type": "markdown",
   "metadata": {},
   "source": [
    "It is observed that Central area has a dense number of restaurants including Middle Eastern and the East area has a good number too with less Middle Eastern restaurants, on the other hand, the east area has an insignificant number of restaurants and the north has a lot less than the Central and Eastern area, However, it does not have any Middle Eastern restaurants yet. So, opening up aa new Egyptian restaurant would be suggested in the North part of Toronto."
   ]
  }
 ],
 "metadata": {
  "kernelspec": {
   "display_name": "Python 3",
   "language": "python",
   "name": "python3"
  },
  "language_info": {
   "codemirror_mode": {
    "name": "ipython",
    "version": 3
   },
   "file_extension": ".py",
   "mimetype": "text/x-python",
   "name": "python",
   "nbconvert_exporter": "python",
   "pygments_lexer": "ipython3",
   "version": "3.6.5"
  }
 },
 "nbformat": 4,
 "nbformat_minor": 2
}
