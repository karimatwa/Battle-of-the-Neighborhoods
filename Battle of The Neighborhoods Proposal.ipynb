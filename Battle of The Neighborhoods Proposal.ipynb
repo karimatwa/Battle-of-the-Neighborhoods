{
 "cells": [
  {
   "cell_type": "markdown",
   "metadata": {},
   "source": [
    "#  Location suggestions for opening an Egyptian restaurant in Toronto"
   ]
  },
  {
   "cell_type": "markdown",
   "metadata": {},
   "source": [
    "Toronto is the capital city of the province of Ontario, one of the largest cities in Canada by population with 2,731,571 residents as of 2016. The majority of the Ontario residents live the the Greater Toronto Area (GTA) which makes it Canada's most populous city. With the wide diversity in Canada and in the City of Toronto, there are many restaurants that offer almost every cuisine that exists on the planet. However, there isn't any authentic Egyptian restaurant in the city that specializes in Egyptian food only."
   ]
  },
  {
   "cell_type": "markdown",
   "metadata": {},
   "source": [
    "Opening a new restaurant in the city would require a good understanding of the geography, neighborhoods and diversity of the city and the distribution of the restaurants on each side of the city that ranges from east to west and the center."
   ]
  },
  {
   "cell_type": "markdown",
   "metadata": {},
   "source": [
    "Our study would require filtering all the venues to only work on venues that serve food, fast food or are just diner places or restaurants. Our study should decide which area would be best to open an Egyptian restaurant."
   ]
  },
  {
   "cell_type": "markdown",
   "metadata": {},
   "source": [
    "### Data"
   ]
  },
  {
   "cell_type": "markdown",
   "metadata": {},
   "source": [
    "For the Toronto neighborhood data, this Wikipedia page: https://en.wikipedia.org/wiki/List_of_postal_codes_of_Canada:_M has all the information I need to explore and cluster the neighborhoods in Toronto. I will scrape the Wikipedia page and wrangle the data, clean it, and then read it into a pandas dataframe so that it is in a structured format with the geographical coordinates of each postal code from: http://cocl.us/Geospatial_data"
   ]
  },
  {
   "cell_type": "markdown",
   "metadata": {},
   "source": [
    "Using Foursquare APIs I will fetch the data from all the venues in Toronto and then I will filter the data to get only the restaurants/diners or food related venues to work on."
   ]
  },
  {
   "cell_type": "code",
   "execution_count": null,
   "metadata": {},
   "outputs": [],
   "source": []
  }
 ],
 "metadata": {
  "kernelspec": {
   "display_name": "Python 3",
   "language": "python",
   "name": "python3"
  },
  "language_info": {
   "codemirror_mode": {
    "name": "ipython",
    "version": 3
   },
   "file_extension": ".py",
   "mimetype": "text/x-python",
   "name": "python",
   "nbconvert_exporter": "python",
   "pygments_lexer": "ipython3",
   "version": "3.6.5"
  }
 },
 "nbformat": 4,
 "nbformat_minor": 2
}
